{
  "nbformat": 4,
  "nbformat_minor": 0,
  "metadata": {
    "colab": {
      "provenance": [],
      "include_colab_link": true
    },
    "kernelspec": {
      "name": "python3",
      "display_name": "Python 3"
    },
    "language_info": {
      "name": "python"
    }
  },
  "cells": [
    {
      "cell_type": "markdown",
      "metadata": {
        "id": "view-in-github",
        "colab_type": "text"
      },
      "source": [
        "<a href=\"https://colab.research.google.com/github/wangconglong/55cl.github.io/blob/main/final_quiz.ipynb\" target=\"_parent\"><img src=\"https://colab.research.google.com/assets/colab-badge.svg\" alt=\"Open In Colab\"/></a>"
      ]
    },
    {
      "cell_type": "markdown",
      "source": [
        "# **STAT1013 Data Science Toolbox: Quiz**\n",
        "\n",
        "> **Time**: 11:40am - 1:40pm\n",
        "\n",
        "> 📝 Honesty: Our course places very high importance on honesty in coursework submitted by students, and adopts a policy of [zero tolerance](https://www.cuhk.edu.hk/policy/academichonesty/Eng_htm_files_(2013-14)/index_page2.htm) on academic dishonesty.\n",
        "\n",
        "> **ChatGPT**, **YouChat** or other AI-based QA systems are **prohibited** in the quiz. Once found by TAs during the quiz, it is equivalent to cheating."
      ],
      "metadata": {
        "id": "cy6XtVKDbTzw"
      }
    },
    {
      "cell_type": "markdown",
      "source": [
        "## **Question 1 (2 points)** Student ID"
      ],
      "metadata": {
        "id": "jfSbretVb8Ld"
      }
    },
    {
      "cell_type": "code",
      "execution_count": null,
      "metadata": {
        "id": "ByFlH1rnbRZD"
      },
      "outputs": [],
      "source": [
        "import numpy as np\n",
        "import random\n",
        "\n",
        "## Please put your student ID in\n",
        "sid = \n",
        "random.seed(sid)"
      ]
    },
    {
      "cell_type": "markdown",
      "source": [
        "## **Question 2 (10 points):** Basic Statistics\n",
        "\n",
        "1. Use `pandas.read_csv` load the dataset in [Github](https://raw.githubusercontent.com/Opensourcefordatascience/Data-sets/master/admission.csv) as a DataFrame, named as `df`\n",
        "\n",
        "2. Print the first 5 records of `df`\n",
        "\n",
        "3. Return names and data types of all columns in `df`\n",
        "\n",
        "4. Use `groupby` function of `df`, show the `mean` and `std` of `gpa` for `admit = 0` and `admit = 1`\n",
        "\n",
        "5. How many students under condition that `gre > 350` and `gpa > 3.5`?"
      ],
      "metadata": {
        "id": "hzJC0LnbcY3Y"
      }
    },
    {
      "cell_type": "code",
      "source": [
        "## Your solution to Q2(1)\n"
      ],
      "metadata": {
        "id": "r2bLnkEjdNMJ"
      },
      "execution_count": null,
      "outputs": []
    },
    {
      "cell_type": "code",
      "source": [
        "## Your solution to Q2(2)\n"
      ],
      "metadata": {
        "id": "yqPrl5GHeNDj"
      },
      "execution_count": null,
      "outputs": []
    },
    {
      "cell_type": "code",
      "source": [
        "## Your solution to Q2(3)\n"
      ],
      "metadata": {
        "id": "ytdiHB-ZebQe"
      },
      "execution_count": null,
      "outputs": []
    },
    {
      "cell_type": "code",
      "source": [
        "## Your solution to Q2(4)\n"
      ],
      "metadata": {
        "id": "azS8Dh-aebqk"
      },
      "execution_count": null,
      "outputs": []
    },
    {
      "cell_type": "code",
      "source": [
        "## Your solution to Q2(5)\n"
      ],
      "metadata": {
        "id": "jTPR0GkHecI0"
      },
      "execution_count": null,
      "outputs": []
    },
    {
      "cell_type": "markdown",
      "source": [
        "## **Question 3 (10 points):** Data Visualization via seaborn\n",
        "\n",
        "Use the same DataFrame `df` in **Q2**, answer following questions.\n",
        "\n",
        "1. Give the violinplot for `gre` in `df`\n",
        "\n",
        "2. Give the violinplot for `gpa` under different `admit`.\n",
        "\n",
        "3. Give the violinplot for `gpa` under different `admit` and `rank`.\n",
        "\n",
        "4. If we want to check the \"relationship\" between `gpa` and `gre` under different `admit`, how will you use `seaborn` to demonstrate?\n",
        "\n"
      ],
      "metadata": {
        "id": "fILrmTRFfmJm"
      }
    },
    {
      "cell_type": "code",
      "source": [
        "## Your solution to Q3(1)\n"
      ],
      "metadata": {
        "id": "kYzTfriPgQNv"
      },
      "execution_count": null,
      "outputs": []
    },
    {
      "cell_type": "code",
      "source": [
        "## Your solution to Q3(2)\n"
      ],
      "metadata": {
        "id": "p6Mr8HK8gsha"
      },
      "execution_count": null,
      "outputs": []
    },
    {
      "cell_type": "code",
      "source": [
        "## Your solution to Q3(3)\n"
      ],
      "metadata": {
        "id": "t_lwT-f8h75F"
      },
      "execution_count": null,
      "outputs": []
    },
    {
      "cell_type": "code",
      "source": [
        "## Your solution to Q3(4)\n"
      ],
      "metadata": {
        "id": "QbahIcAtgtHv"
      },
      "execution_count": null,
      "outputs": []
    },
    {
      "cell_type": "markdown",
      "source": [
        "## **Question 4 (10 points)**: Random Variables\n",
        "\n",
        "Use functions under `scipy.stats` answer following questions.\n",
        "\n",
        "- Define a random variable $X$ as a **poisson** random variable with `mu=1`.\n",
        "\n",
        "- Compute $P(X < 2)$\n",
        "\n",
        "- Compute `mean`, `median`, and `std` of $X$.\n",
        "\n",
        "- Sample 10000 data under $X$, and show its histgram\n",
        "\n",
        "- Find the smallest value of $a$ such that $P(X < a) > 0.9$"
      ],
      "metadata": {
        "id": "khz89u0ZiF1I"
      }
    },
    {
      "cell_type": "code",
      "source": [
        "## Your solution to Q4(1)\n"
      ],
      "metadata": {
        "id": "N2foIkaSkSuy"
      },
      "execution_count": null,
      "outputs": []
    },
    {
      "cell_type": "code",
      "source": [
        "## Your solution to Q4(2)\n"
      ],
      "metadata": {
        "id": "6xVnEb-zkd9E"
      },
      "execution_count": null,
      "outputs": []
    },
    {
      "cell_type": "code",
      "source": [
        "## Your solution to Q4(3)\n"
      ],
      "metadata": {
        "id": "frNiR7QPke6K"
      },
      "execution_count": null,
      "outputs": []
    },
    {
      "cell_type": "code",
      "source": [
        "## Your solution to Q4(4)\n"
      ],
      "metadata": {
        "id": "zpe58HpHkfnU"
      },
      "execution_count": null,
      "outputs": []
    },
    {
      "cell_type": "code",
      "source": [
        "## Your solution to Q4(5)\n"
      ],
      "metadata": {
        "id": "M3AjC9-clKR2"
      },
      "execution_count": null,
      "outputs": []
    },
    {
      "cell_type": "markdown",
      "source": [
        "## **Question 5 (15 points)**: A/B Test\n",
        "\n",
        "Use the same DataFrame `df` in **Q2**, answer following questions.\n",
        "\n",
        "> Can we conclude at the 0.05 level of significance that the `gpa` of `admit=1` exceeds that of `admit=0`?\n",
        "\n",
        "- What's the null and alternative hypothese?\n",
        "\n",
        "- What's the test statistic used in the testing?\n",
        "\n",
        "- Calculate the `test statistic` and `p-value` based on `scipy.stats`\n",
        "\n",
        "- Interpret the p-value and drawn the conclusion.\n"
      ],
      "metadata": {
        "id": "z1-QX_0VmPFm"
      }
    },
    {
      "cell_type": "code",
      "source": [
        "## Your solution to Q5(1)\n"
      ],
      "metadata": {
        "id": "_0rkZDX0_9lg"
      },
      "execution_count": null,
      "outputs": []
    },
    {
      "cell_type": "code",
      "source": [
        "## Your solution to Q5(2)\n"
      ],
      "metadata": {
        "id": "4c7zct-MAnrl"
      },
      "execution_count": null,
      "outputs": []
    },
    {
      "cell_type": "code",
      "source": [
        "## Your solution to Q5(3)\n"
      ],
      "metadata": {
        "id": "nQHVJWB-AoiL"
      },
      "execution_count": null,
      "outputs": []
    },
    {
      "cell_type": "code",
      "source": [
        "## Your solution to Q5(4)\n"
      ],
      "metadata": {
        "id": "ItrkuKN_ApYh"
      },
      "execution_count": null,
      "outputs": []
    },
    {
      "cell_type": "markdown",
      "source": [
        "## **Question 6 (5 points)**: A/B Test (b)\n",
        "\n",
        "This is a continued question of **Question 5**.\n",
        "\n",
        "> Can we conclude at the 0.05 level of significance that the `gpa` of `admit=1` exceeds that of `admit=0` more than **0.05 point**?\n",
        "\n",
        "- What's the null and alternative hypothese?\n",
        "\n",
        "- What's the test statistic used in the testing?\n",
        "\n",
        "- Calculate the `test statistic` and `p-value` based on `scipy.stats`\n",
        "\n",
        "- Interpret the p-value and drawn the conclusion."
      ],
      "metadata": {
        "id": "89DEAEaxAflw"
      }
    },
    {
      "cell_type": "code",
      "source": [
        "## Your solution to Q6(1)\n"
      ],
      "metadata": {
        "id": "KcKZ12QrBgRU"
      },
      "execution_count": null,
      "outputs": []
    },
    {
      "cell_type": "code",
      "source": [
        "## Your solution to Q6(2)\n"
      ],
      "metadata": {
        "id": "s1a2IxZoBgRV"
      },
      "execution_count": null,
      "outputs": []
    },
    {
      "cell_type": "code",
      "source": [
        "## Your solution to Q6(3)\n"
      ],
      "metadata": {
        "id": "AJyIAwZBBgRW"
      },
      "execution_count": null,
      "outputs": []
    },
    {
      "cell_type": "code",
      "source": [
        "## Your solution to Q6(4)\n"
      ],
      "metadata": {
        "id": "MSMhTCwmBgRX"
      },
      "execution_count": null,
      "outputs": []
    },
    {
      "cell_type": "markdown",
      "source": [
        "## **Question 7 (10 points)**: General questions (a)\n",
        "\n",
        "If $Z_1, ..., Z_k$ are independent, standard normal random variables, then the sum of their squares, \n",
        "$$\n",
        "{\\displaystyle Q\\ =\\sum _{i=1}^{k}Z_{i}^{2},}\n",
        "$$\n",
        "is distributed according to the **chi-squared distribution** (see [scipy doc](https://docs.scipy.org/doc/scipy/reference/generated/scipy.stats.chi2.html)) with k degrees of freedom.\n",
        "\n",
        "- Suppose $k=2$, generate 1000 samples under $Z_1$ and $Z_2$, respectively.\n",
        "\n",
        "- Generate 1000 samples under $Q$ based on the samples of $Z_1$ and $Z_2$. \n",
        "\n",
        "- Use the QQ-plot to verify the distribution of samples is **chi-squared distribution**."
      ],
      "metadata": {
        "id": "Ll7P84ZtFcwe"
      }
    },
    {
      "cell_type": "markdown",
      "source": [
        "## **Question 8 (10 points)**: General questions (b)\n",
        "\n",
        "Suppose $X \\sim \\text{Exp}(\\lambda = 1)$ [wiki](https://en.wikipedia.org/wiki/Exponential_distribution) is a random variable following an exponential distribution distribution. Define $R = P(Z \\leq X) = F_Z(X)$ where $F_Z$ is the cdf of an exponential distribution with $\\lambda = 1$.\n",
        "\n",
        "- Generate 1000 samples of $X$\n",
        "- Generate 1000 samples of $R$ based on samples of $X$\n",
        "- What's the distribution of $R$?\n",
        "- Verify your conclusion by QQ-plot."
      ],
      "metadata": {
        "id": "AJUOjSzNBn8Z"
      }
    },
    {
      "cell_type": "code",
      "source": [
        "## Your solution of Q8(1)\n"
      ],
      "metadata": {
        "id": "U7FEQGZSEBM9"
      },
      "execution_count": null,
      "outputs": []
    },
    {
      "cell_type": "code",
      "source": [
        "## Your solution of Q8(2)\n"
      ],
      "metadata": {
        "id": "NxeSFMJdEE4d"
      },
      "execution_count": null,
      "outputs": []
    },
    {
      "cell_type": "code",
      "source": [
        "## Your solution of Q8(3)\n"
      ],
      "metadata": {
        "id": "ISmD2U3tEFPC"
      },
      "execution_count": null,
      "outputs": []
    },
    {
      "cell_type": "code",
      "source": [
        "## Your solution of Q8(4)\n"
      ],
      "metadata": {
        "id": "uXWQpvY6FCLM"
      },
      "execution_count": null,
      "outputs": []
    }
  ]
}